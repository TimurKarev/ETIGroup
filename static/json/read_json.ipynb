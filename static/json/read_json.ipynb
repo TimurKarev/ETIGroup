{
 "metadata": {
  "language_info": {
   "codemirror_mode": {
    "name": "ipython",
    "version": 3
   },
   "file_extension": ".py",
   "mimetype": "text/x-python",
   "name": "python",
   "nbconvert_exporter": "python",
   "pygments_lexer": "ipython3",
   "version": "3.8.5-final"
  },
  "orig_nbformat": 2,
  "kernelspec": {
   "name": "pycharm-bdab4761",
   "language": "python",
   "display_name": "PyCharm (ETIGroup)"
  }
 },
 "nbformat": 4,
 "nbformat_minor": 2,
 "cells": [
  {
   "cell_type": "code",
   "execution_count": 1,
   "metadata": {},
   "outputs": [],
   "source": [
    "import json"
   ]
  },
  {
   "cell_type": "code",
   "execution_count": 5,
   "metadata": {},
   "outputs": [
    {
     "data": {
      "text/plain": "[{'name': 'config',\n  'points': [{'point_type': 'integer', 'name': 'Количество ТСН', 'value': 2},\n   {'point_type': 'integer', 'name': 'Количество РУВН', 'value': 2},\n   {'point_type': 'integer', 'name': 'Количество RM6', 'value': 2}]}]"
     },
     "execution_count": 5,
     "metadata": {},
     "output_type": "execute_result"
    }
   ],
   "source": [
    "with open(\"order_config.json\", \"r\", encoding=\"utf-8\") as read_file:\n",
    "    sections = json.load(read_file)\n",
    "sections"
   ]
  },
  {
   "cell_type": "code",
   "execution_count": 14,
   "metadata": {
    "pycharm": {
     "name": "#%%\n"
    }
   },
   "outputs": [
    {
     "name": "stdout",
     "output_type": "stream",
     "text": [
      "config\n"
     ]
    }
   ],
   "source": [
    "for section in sections:\n",
    "    if section['name'] == 'config':\n",
    "        print(section['name'])"
   ]
  },
  {
   "cell_type": "code",
   "execution_count": 10,
   "outputs": [
    {
     "name": "stdout",
     "output_type": "stream",
     "text": [
      "True\n"
     ]
    }
   ],
   "source": [
    "if True == True:\n",
    "    print(True)\n"
   ],
   "metadata": {
    "collapsed": false,
    "pycharm": {
     "name": "#%%\n"
    }
   }
  }
 ]
}